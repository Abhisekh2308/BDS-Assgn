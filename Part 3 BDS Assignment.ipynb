{
 "cells": [
  {
   "cell_type": "code",
   "execution_count": 0,
   "metadata": {
    "application/vnd.databricks.v1+cell": {
     "cellMetadata": {
      "byteLimit": 2048000,
      "rowLimit": 10000
     },
     "inputWidgets": {},
     "nuid": "b9aa146a-27c2-4aff-9bd7-386e2966ca03",
     "showTitle": false,
     "title": ""
    }
   },
   "outputs": [
    {
     "name": "stdout",
     "output_type": "stream",
     "text": [
      "Python interpreter will be restarted.\n",
      "Collecting pyspark\n",
      "  Downloading pyspark-3.5.0.tar.gz (316.9 MB)\n",
      "Collecting py4j==0.10.9.7\n",
      "  Downloading py4j-0.10.9.7-py2.py3-none-any.whl (200 kB)\n",
      "Building wheels for collected packages: pyspark\n",
      "  Building wheel for pyspark (setup.py): started\n",
      "  Building wheel for pyspark (setup.py): finished with status 'done'\n",
      "  Created wheel for pyspark: filename=pyspark-3.5.0-py2.py3-none-any.whl size=317425366 sha256=d396f614033a71cbf81f21febb4c12765c19a947da10909ff0130c59cdcfae1d\n",
      "  Stored in directory: /root/.cache/pip/wheels/57/bd/14/ce9e21f2649298678d011fb8f71ed38ee70b42b94fef0be142\n",
      "Successfully built pyspark\n",
      "Installing collected packages: py4j, pyspark\n",
      "Successfully installed py4j-0.10.9.7 pyspark-3.5.0\n",
      "Python interpreter will be restarted.\n"
     ]
    }
   ],
   "source": [
    "pip install pyspark"
   ]
  },
  {
   "cell_type": "code",
   "execution_count": 0,
   "metadata": {
    "application/vnd.databricks.v1+cell": {
     "cellMetadata": {
      "byteLimit": 2048000,
      "rowLimit": 10000
     },
     "inputWidgets": {},
     "nuid": "7b7c43c4-bb72-4960-988e-aa95deae0a79",
     "showTitle": false,
     "title": ""
    }
   },
   "outputs": [],
   "source": [
    "import pyspark\n",
    "from pyspark.sql import SparkSession\n",
    "from pyspark.sql.functions import avg\n",
    "from pyspark.sql.functions import desc"
   ]
  },
  {
   "cell_type": "code",
   "execution_count": 0,
   "metadata": {
    "application/vnd.databricks.v1+cell": {
     "cellMetadata": {
      "byteLimit": 2048000,
      "rowLimit": 10000
     },
     "inputWidgets": {},
     "nuid": "0e960d39-ebed-4d39-a9d6-17d346285fca",
     "showTitle": false,
     "title": ""
    }
   },
   "outputs": [],
   "source": [
    "spark = SparkSession.builder.getOrCreate()"
   ]
  },
  {
   "cell_type": "code",
   "execution_count": 0,
   "metadata": {
    "application/vnd.databricks.v1+cell": {
     "cellMetadata": {
      "byteLimit": 2048000,
      "rowLimit": 10000
     },
     "inputWidgets": {},
     "nuid": "c1da3667-91b0-479b-9c18-07651887b603",
     "showTitle": false,
     "title": ""
    }
   },
   "outputs": [],
   "source": [
    "# Load the Spotify dataset into a DataFrame\n",
    "spotify_data = spark.read.csv(\"/FileStore/tables/train.csv\", header=True, inferSchema=True)"
   ]
  },
  {
   "cell_type": "code",
   "execution_count": 0,
   "metadata": {
    "application/vnd.databricks.v1+cell": {
     "cellMetadata": {
      "byteLimit": 2048000,
      "rowLimit": 10000
     },
     "inputWidgets": {},
     "nuid": "b5e22f25-2653-4125-abbb-165f1c3f89f7",
     "showTitle": false,
     "title": ""
    }
   },
   "outputs": [
    {
     "name": "stdout",
     "output_type": "stream",
     "text": [
      "+----------+--------------------+--------------------+--------------------+--------------------+----------+-----------+--------+------------+------+---+--------+----+-----------+------------+----------------+--------+-------+-------+--------------+-----------+\n",
      "|Unnamed: 0|            track_id|             artists|          album_name|          track_name|popularity|duration_ms|explicit|danceability|energy|key|loudness|mode|speechiness|acousticness|instrumentalness|liveness|valence|  tempo|time_signature|track_genre|\n",
      "+----------+--------------------+--------------------+--------------------+--------------------+----------+-----------+--------+------------+------+---+--------+----+-----------+------------+----------------+--------+-------+-------+--------------+-----------+\n",
      "|         0|5SuOikwiRyPMVoIQD...|         Gen Hoshino|              Comedy|              Comedy|        73|     230666|   False|       0.676| 0.461|  1|  -6.746|   0|      0.143|      0.0322|         1.01E-6|   0.358|  0.715| 87.917|           4.0|   acoustic|\n",
      "|         1|4qPNDBW1i3p13qLCt...|        Ben Woodward|    Ghost (Acoustic)|    Ghost - Acoustic|        55|     149610|   False|        0.42| 0.166|  1| -17.235|   1|     0.0763|       0.924|         5.56E-6|   0.101|  0.267| 77.489|           4.0|   acoustic|\n",
      "|         2|1iJBSr7s7jYXzM8EG...|Ingrid Michaelson...|      To Begin Again|      To Begin Again|        57|     210826|   False|       0.438| 0.359|  0|  -9.734|   1|     0.0557|        0.21|             0.0|   0.117|   0.12| 76.332|           4.0|   acoustic|\n",
      "|         3|6lfxq3CG4xtTiEg7o...|        Kina Grannis|Crazy Rich Asians...|Can't Help Fallin...|        71|     201933|   False|       0.266|0.0596|  0| -18.515|   1|     0.0363|       0.905|         7.07E-5|   0.132|  0.143| 181.74|           3.0|   acoustic|\n",
      "|         4|5vjLSffimiIP26QG5...|    Chord Overstreet|             Hold On|             Hold On|        82|     198853|   False|       0.618| 0.443|  2|  -9.681|   1|     0.0526|       0.469|             0.0|  0.0829|  0.167|119.949|           4.0|   acoustic|\n",
      "+----------+--------------------+--------------------+--------------------+--------------------+----------+-----------+--------+------------+------+---+--------+----+-----------+------------+----------------+--------+-------+-------+--------------+-----------+\n",
      "only showing top 5 rows\n",
      "\n"
     ]
    }
   ],
   "source": [
    "spotify_data.show(5)"
   ]
  },
  {
   "cell_type": "markdown",
   "metadata": {
    "application/vnd.databricks.v1+cell": {
     "cellMetadata": {},
     "inputWidgets": {},
     "nuid": "1c12bc8f-96bc-4ecd-be7d-07eea1fd6e37",
     "showTitle": false,
     "title": ""
    }
   },
   "source": [
    "Query 1: Identifying high Potential Genres for Marketing and promotion"
   ]
  },
  {
   "cell_type": "code",
   "execution_count": 0,
   "metadata": {
    "application/vnd.databricks.v1+cell": {
     "cellMetadata": {
      "byteLimit": 2048000,
      "rowLimit": 10000
     },
     "inputWidgets": {},
     "nuid": "5e371dbb-f83b-4760-ad8c-b26edc77a12c",
     "showTitle": false,
     "title": ""
    }
   },
   "outputs": [
    {
     "name": "stdout",
     "output_type": "stream",
     "text": [
      "+-----------+------------------+\n",
      "|track_genre|   avg(popularity)|\n",
      "+-----------+------------------+\n",
      "|   pop-film|59.287575150300604|\n",
      "|      k-pop|            56.896|\n",
      "|      chill|            53.651|\n",
      "|        sad|            52.379|\n",
      "|     grunge|            49.594|\n",
      "|     indian|            49.539|\n",
      "|      anime|            48.772|\n",
      "|        emo|            48.128|\n",
      "|  sertanejo|            47.866|\n",
      "|        pop|            47.576|\n",
      "+-----------+------------------+\n",
      "\n"
     ]
    }
   ],
   "source": [
    "# Cache the DataFrame for better performance\n",
    "spotify_data.cache()\n",
    "# Find the top genres based on the average popularity of tracks within each genre\n",
    "high_potential_genres_query = (\n",
    " spotify_data\n",
    " .groupBy(\"track_genre\")\n",
    " .agg({\"popularity\": \"avg\"})\n",
    " .orderBy(desc(\"avg(popularity)\"))\n",
    " .limit(10)\n",
    ")\n",
    "high_potential_genres_query.show() \n"
   ]
  },
  {
   "cell_type": "markdown",
   "metadata": {
    "application/vnd.databricks.v1+cell": {
     "cellMetadata": {},
     "inputWidgets": {},
     "nuid": "6f033771-0731-4f16-bdd0-fd06d058c8ff",
     "showTitle": false,
     "title": ""
    }
   },
   "source": [
    "Query2: Identify Top Artists and Genres by Average Popularity"
   ]
  },
  {
   "cell_type": "code",
   "execution_count": 0,
   "metadata": {
    "application/vnd.databricks.v1+cell": {
     "cellMetadata": {
      "byteLimit": 2048000,
      "rowLimit": 10000
     },
     "inputWidgets": {},
     "nuid": "0088d02d-0b19-4a64-aa6a-8f7d4adce15a",
     "showTitle": false,
     "title": ""
    }
   },
   "outputs": [
    {
     "name": "stdout",
     "output_type": "stream",
     "text": [
      "+--------------------+-----------+---------------+\n",
      "|             artists|track_genre|avg(popularity)|\n",
      "+--------------------+-----------+---------------+\n",
      "|Sam Smith;Kim Petras|      dance|          100.0|\n",
      "|Sam Smith;Kim Petras|        pop|          100.0|\n",
      "|    Bizarrap;Quevedo|    hip-hop|           99.0|\n",
      "|       Manuel Turizo|      latin|           98.0|\n",
      "|       Manuel Turizo|     latino|           98.0|\n",
      "|       Manuel Turizo|     reggae|           98.0|\n",
      "|       Manuel Turizo|  reggaeton|           98.0|\n",
      "|Bad Bunny;Chencho...|      latin|           97.0|\n",
      "|Bad Bunny;Chencho...|     reggae|           97.0|\n",
      "|Bad Bunny;Chencho...|     latino|           97.0|\n",
      "+--------------------+-----------+---------------+\n",
      "\n"
     ]
    }
   ],
   "source": [
    "top_artists_genres_query = (\n",
    " spotify_data\n",
    " .groupBy(\"artists\", \"track_genre\")\n",
    " .agg({\"popularity\": \"avg\"})\n",
    " .orderBy(desc(\"avg(popularity)\"))\n",
    " .limit(10)\n",
    ")\n",
    "top_artists_genres_query.show() "
   ]
  },
  {
   "cell_type": "markdown",
   "metadata": {
    "application/vnd.databricks.v1+cell": {
     "cellMetadata": {},
     "inputWidgets": {},
     "nuid": "5f3689ff-c459-4ea9-a86f-0eb4238f6512",
     "showTitle": false,
     "title": ""
    }
   },
   "source": [
    "Query3: Identify the Most Common Keys and Modes"
   ]
  },
  {
   "cell_type": "markdown",
   "metadata": {
    "application/vnd.databricks.v1+cell": {
     "cellMetadata": {},
     "inputWidgets": {},
     "nuid": "d8e564c2-6c4b-4982-8068-dd6441da8613",
     "showTitle": false,
     "title": ""
    }
   },
   "source": [
    "Knowing the most common keys and modes in your dataset can help in creating\n",
    "playlists. "
   ]
  },
  {
   "cell_type": "code",
   "execution_count": 0,
   "metadata": {
    "application/vnd.databricks.v1+cell": {
     "cellMetadata": {
      "byteLimit": 2048000,
      "rowLimit": 10000
     },
     "inputWidgets": {},
     "nuid": "f466bf9d-2940-4c3b-ac76-af57bb6c1197",
     "showTitle": false,
     "title": ""
    }
   },
   "outputs": [
    {
     "name": "stdout",
     "output_type": "stream",
     "text": [
      "+---+----+-----+\n",
      "|key|mode|count|\n",
      "+---+----+-----+\n",
      "|  0|   1|10179|\n",
      "|  7|   1|10130|\n",
      "|  2|   1| 9052|\n",
      "|  1|   1| 7164|\n",
      "|  9|   1| 6857|\n",
      "|  8|   1| 5436|\n",
      "|  5|   1| 5336|\n",
      "| 11|   0| 5145|\n",
      "|  4|   0| 4724|\n",
      "|  9|   0| 4453|\n",
      "+---+----+-----+\n",
      "only showing top 10 rows\n",
      "\n"
     ]
    }
   ],
   "source": [
    "common_keys_modes_query = (\n",
    " spotify_data\n",
    " .groupBy(\"key\", \"mode\")\n",
    " .count()\n",
    " .orderBy(desc(\"count\"))\n",
    ")\n",
    "common_keys_modes_query.show(10) \n"
   ]
  }
 ],
 "metadata": {
  "application/vnd.databricks.v1+notebook": {
   "dashboards": [],
   "language": "python",
   "notebookMetadata": {
    "pythonIndentUnit": 4
   },
   "notebookName": "Part 3 BDS Assignment",
   "widgets": {}
  },
  "kernelspec": {
   "display_name": "Python 3 (ipykernel)",
   "language": "python",
   "name": "python3"
  },
  "language_info": {
   "codemirror_mode": {
    "name": "ipython",
    "version": 3
   },
   "file_extension": ".py",
   "mimetype": "text/x-python",
   "name": "python",
   "nbconvert_exporter": "python",
   "pygments_lexer": "ipython3",
   "version": "3.9.12"
  }
 },
 "nbformat": 4,
 "nbformat_minor": 1
}
