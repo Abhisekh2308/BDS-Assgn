{
 "cells": [
  {
   "cell_type": "code",
   "execution_count": 1,
   "id": "47e4556a",
   "metadata": {},
   "outputs": [
    {
     "name": "stdout",
     "output_type": "stream",
     "text": [
      "Requirement already satisfied: pymongo in c:\\users\\hp\\anaconda3\\lib\\site-packages (4.6.1)\n",
      "Requirement already satisfied: dnspython<3.0.0,>=1.16.0 in c:\\users\\hp\\anaconda3\\lib\\site-packages (from pymongo) (2.4.2)\n",
      "Note: you may need to restart the kernel to use updated packages.\n"
     ]
    }
   ],
   "source": [
    "pip install pymongo"
   ]
  },
  {
   "cell_type": "code",
   "execution_count": 5,
   "id": "3a59c411",
   "metadata": {},
   "outputs": [],
   "source": [
    "import pymongo"
   ]
  },
  {
   "cell_type": "code",
   "execution_count": 6,
   "id": "b42acb16",
   "metadata": {},
   "outputs": [],
   "source": [
    "client = pymongo.MongoClient('mongodb://127.0.0.1:27017/*')"
   ]
  },
  {
   "cell_type": "code",
   "execution_count": 7,
   "id": "3439dfd0",
   "metadata": {},
   "outputs": [],
   "source": [
    "mydb=client['Spotify']\n",
    "collection = mydb[\"Spotify\"]"
   ]
  },
  {
   "cell_type": "code",
   "execution_count": 10,
   "id": "da22899c",
   "metadata": {},
   "outputs": [
    {
     "name": "stdout",
     "output_type": "stream",
     "text": [
      "{'_id': ObjectId('658b1b0803b6f63677c18eaf'), 'Unnamed: 0': 0, 'track_id': '5SuOikwiRyPMVoIQDJUgSV', 'artists': 'Gen Hoshino', 'album_name': 'Comedy', 'track_name': 'Comedy', 'popularity': 73, 'duration_ms': 230666, 'explicit': False, 'danceability': 0.676, 'energy': 0.461, 'key': 1, 'loudness': -6.746, 'mode': 0, 'speechiness': 0.143, 'acousticness': 0.0322, 'instrumentalness': 1.01e-06, 'liveness': 0.358, 'valence': 0.715, 'tempo': 87.917, 'time_signature': 4, 'track_genre': 'acoustic'}\n",
      "{'_id': ObjectId('658b1b0803b6f63677c18eb0'), 'Unnamed: 0': 1, 'track_id': '4qPNDBW1i3p13qLCt0Ki3A', 'artists': 'Ben Woodward', 'album_name': 'Ghost (Acoustic)', 'track_name': 'Ghost - Acoustic', 'popularity': 55, 'duration_ms': 149610, 'explicit': False, 'danceability': 0.42, 'energy': 0.166, 'key': 1, 'loudness': -17.235, 'mode': 1, 'speechiness': 0.0763, 'acousticness': 0.924, 'instrumentalness': 5.56e-06, 'liveness': 0.101, 'valence': 0.267, 'tempo': 77.489, 'time_signature': 4, 'track_genre': 'acoustic'}\n",
      "{'_id': ObjectId('658b1b0803b6f63677c18eb1'), 'Unnamed: 0': 2, 'track_id': '1iJBSr7s7jYXzM8EGcbK5b', 'artists': 'Ingrid Michaelson;ZAYN', 'album_name': 'To Begin Again', 'track_name': 'To Begin Again', 'popularity': 57, 'duration_ms': 210826, 'explicit': False, 'danceability': 0.438, 'energy': 0.359, 'key': 0, 'loudness': -9.734, 'mode': 1, 'speechiness': 0.0557, 'acousticness': 0.21, 'instrumentalness': 0.0, 'liveness': 0.117, 'valence': 0.12, 'tempo': 76.332, 'time_signature': 4, 'track_genre': 'acoustic'}\n",
      "{'_id': ObjectId('658b1b0803b6f63677c18eb2'), 'Unnamed: 0': 3, 'track_id': '6lfxq3CG4xtTiEg7opyCyx', 'artists': 'Kina Grannis', 'album_name': 'Crazy Rich Asians (Original Motion Picture Soundtrack)', 'track_name': \"Can't Help Falling In Love\", 'popularity': 71, 'duration_ms': 201933, 'explicit': False, 'danceability': 0.266, 'energy': 0.0596, 'key': 0, 'loudness': -18.515, 'mode': 1, 'speechiness': 0.0363, 'acousticness': 0.905, 'instrumentalness': 7.07e-05, 'liveness': 0.132, 'valence': 0.143, 'tempo': 181.74, 'time_signature': 3, 'track_genre': 'acoustic'}\n",
      "{'_id': ObjectId('658b1b0803b6f63677c18eb3'), 'Unnamed: 0': 4, 'track_id': '5vjLSffimiIP26QG5WcN2K', 'artists': 'Chord Overstreet', 'album_name': 'Hold On', 'track_name': 'Hold On', 'popularity': 82, 'duration_ms': 198853, 'explicit': False, 'danceability': 0.618, 'energy': 0.443, 'key': 2, 'loudness': -9.681, 'mode': 1, 'speechiness': 0.0526, 'acousticness': 0.469, 'instrumentalness': 0.0, 'liveness': 0.0829, 'valence': 0.167, 'tempo': 119.949, 'time_signature': 4, 'track_genre': 'acoustic'}\n"
     ]
    }
   ],
   "source": [
    "documents = collection.find().limit(5)\n",
    "for document in documents:\n",
    "    \n",
    "    print(document)"
   ]
  },
  {
   "cell_type": "code",
   "execution_count": 11,
   "id": "b89850ef",
   "metadata": {},
   "outputs": [
    {
     "name": "stdout",
     "output_type": "stream",
     "text": [
      "{'_id': ObjectId('658b1b0803b6f63677c18eaf'), 'Unnamed: 0': 0, 'track_id': '5SuOikwiRyPMVoIQDJUgSV', 'artists': 'Gen Hoshino', 'album_name': 'Comedy', 'track_name': 'Comedy', 'popularity': 73, 'duration_ms': 230666, 'explicit': False, 'danceability': 0.676, 'energy': 0.461, 'key': 1, 'loudness': -6.746, 'mode': 0, 'speechiness': 0.143, 'acousticness': 0.0322, 'instrumentalness': 1.01e-06, 'liveness': 0.358, 'valence': 0.715, 'tempo': 87.917, 'time_signature': 4, 'track_genre': 'acoustic'}\n",
      "{'_id': ObjectId('658b1b0803b6f63677c19045'), 'Unnamed: 0': 406, 'track_id': '4nmjL1mUKOAfAbo9QG9tSE', 'artists': 'Gen Hoshino', 'album_name': 'POP VIRUS', 'track_name': 'Koi', 'popularity': 53, 'duration_ms': 251266, 'explicit': False, 'danceability': 0.598, 'energy': 0.819, 'key': 9, 'loudness': -2.619, 'mode': 1, 'speechiness': 0.0911, 'acousticness': 0.00081, 'instrumentalness': 0.0, 'liveness': 0.218, 'valence': 0.878, 'tempo': 158.115, 'time_signature': 4, 'track_genre': 'acoustic'}\n",
      "{'_id': ObjectId('658b1b0803b6f63677c19146'), 'Unnamed: 0': 663, 'track_id': '12qmPGMrOCogibc7qyxT9s', 'artists': 'Gen Hoshino', 'album_name': 'I Wanna Be Your Ghost (feat. Ghosts)', 'track_name': 'I Wanna Be Your Ghost (feat. Ghosts)', 'popularity': 50, 'duration_ms': 225533, 'explicit': False, 'danceability': 0.829, 'energy': 0.751, 'key': 11, 'loudness': -4.937, 'mode': 0, 'speechiness': 0.0645, 'acousticness': 0.0142, 'instrumentalness': 0.014, 'liveness': 0.0414, 'valence': 0.96, 'tempo': 129.993, 'time_signature': 4, 'track_genre': 'acoustic'}\n",
      "{'_id': ObjectId('658b1b0803b6f63677c1919e'), 'Unnamed: 0': 751, 'track_id': '3dPpQeLTWjCjEbSevDMQfW', 'artists': 'Gen Hoshino', 'album_name': 'FUSHIGI', 'track_name': 'FUSHIGI', 'popularity': 49, 'duration_ms': 290000, 'explicit': False, 'danceability': 0.753, 'energy': 0.574, 'key': 3, 'loudness': -4.57, 'mode': 1, 'speechiness': 0.0483, 'acousticness': 0.0512, 'instrumentalness': 3.71e-06, 'liveness': 0.141, 'valence': 0.527, 'tempo': 89.024, 'time_signature': 4, 'track_genre': 'acoustic'}\n",
      "{'_id': ObjectId('658b1b0803b6f63677c191a3'), 'Unnamed: 0': 756, 'track_id': '2pcuXnZhTirLXsfXGVFTv2', 'artists': 'Gen Hoshino', 'album_name': 'Doraemon', 'track_name': 'Doraemon', 'popularity': 41, 'duration_ms': 239933, 'explicit': False, 'danceability': 0.64, 'energy': 0.547, 'key': 4, 'loudness': -4.129, 'mode': 1, 'speechiness': 0.038, 'acousticness': 0.00676, 'instrumentalness': 4.95e-05, 'liveness': 0.0585, 'valence': 0.95, 'tempo': 159.992, 'time_signature': 4, 'track_genre': 'acoustic'}\n",
      "{'_id': ObjectId('658b1b0803b6f63677c191cf'), 'Unnamed: 0': 800, 'track_id': '7rIBp3U5Igzn44l7Z7mOtE', 'artists': 'Gen Hoshino', 'album_name': 'YELLOW DANCER', 'track_name': 'SUN', 'popularity': 48, 'duration_ms': 241466, 'explicit': False, 'danceability': 0.782, 'energy': 0.684, 'key': 1, 'loudness': -5.774, 'mode': 1, 'speechiness': 0.0398, 'acousticness': 0.021, 'instrumentalness': 0.0, 'liveness': 0.125, 'valence': 0.858, 'tempo': 108.171, 'time_signature': 4, 'track_genre': 'acoustic'}\n",
      "{'_id': ObjectId('658b1b0803b6f63677c19201'), 'Unnamed: 0': 850, 'track_id': '6hDBkm6B8HF9B4oATW28YN', 'artists': 'Gen Hoshino', 'album_name': 'POP VIRUS', 'track_name': 'Pop Virus', 'popularity': 47, 'duration_ms': 182000, 'explicit': False, 'danceability': 0.629, 'energy': 0.441, 'key': 9, 'loudness': -4.614, 'mode': 1, 'speechiness': 0.126, 'acousticness': 0.0339, 'instrumentalness': 0.0, 'liveness': 0.234, 'valence': 0.782, 'tempo': 78.177, 'time_signature': 4, 'track_genre': 'acoustic'}\n",
      "{'_id': ObjectId('658b1b1403b6f63677c28145'), 'Unnamed: 0': 62102, 'track_id': '5SuOikwiRyPMVoIQDJUgSV', 'artists': 'Gen Hoshino', 'album_name': 'Comedy', 'track_name': 'Comedy', 'popularity': 73, 'duration_ms': 230666, 'explicit': False, 'danceability': 0.676, 'energy': 0.461, 'key': 1, 'loudness': -6.746, 'mode': 0, 'speechiness': 0.143, 'acousticness': 0.0322, 'instrumentalness': 1.01e-06, 'liveness': 0.358, 'valence': 0.715, 'tempo': 87.917, 'time_signature': 4, 'track_genre': 'j-pop'}\n",
      "{'_id': ObjectId('658b1b1c03b6f63677c311ff'), 'Unnamed: 0': 99152, 'track_id': '5SuOikwiRyPMVoIQDJUgSV', 'artists': 'Gen Hoshino', 'album_name': 'Comedy', 'track_name': 'Comedy', 'popularity': 73, 'duration_ms': 230666, 'explicit': False, 'danceability': 0.676, 'energy': 0.461, 'key': 1, 'loudness': -6.746, 'mode': 0, 'speechiness': 0.143, 'acousticness': 0.0322, 'instrumentalness': 1.01e-06, 'liveness': 0.358, 'valence': 0.715, 'tempo': 87.917, 'time_signature': 4, 'track_genre': 'singer-songwriter'}\n",
      "{'_id': ObjectId('658b1b1d03b6f63677c31db6'), 'Unnamed: 0': 102151, 'track_id': '5SuOikwiRyPMVoIQDJUgSV', 'artists': 'Gen Hoshino', 'album_name': 'Comedy', 'track_name': 'Comedy', 'popularity': 73, 'duration_ms': 230666, 'explicit': False, 'danceability': 0.676, 'energy': 0.461, 'key': 1, 'loudness': -6.746, 'mode': 0, 'speechiness': 0.143, 'acousticness': 0.0322, 'instrumentalness': 1.01e-06, 'liveness': 0.358, 'valence': 0.715, 'tempo': 87.917, 'time_signature': 4, 'track_genre': 'songwriter'}\n"
     ]
    }
   ],
   "source": [
    "# Query to retrieve tracks by artist\n",
    "# artists = \"The Beatles\"\n",
    "artists = \"Gen Hoshino\"\n",
    "\n",
    "query = {\"artists\": artists}\n",
    "\n",
    "# Add optimization: Indexing on artist_name field\n",
    "collection.create_index(\"artists\")\n",
    "\n",
    "# Set consistency level to \"strong\" for read operations\n",
    "\n",
    "\n",
    "# Execute the read query\n",
    "tracks_by_artist = collection.find(query)\n",
    "\n",
    "# Print the results\n",
    "for track_name in tracks_by_artist:\n",
    "    print(track_name)\n"
   ]
  },
  {
   "cell_type": "code",
   "execution_count": 7,
   "id": "70d6d551",
   "metadata": {},
   "outputs": [
    {
     "name": "stdout",
     "output_type": "stream",
     "text": [
      "Track inserted successfully.\n"
     ]
    }
   ],
   "source": [
    "#Write query - Insert a new track:\n",
    "\n",
    "new_track = {\n",
    "    \"track_name\": \"Bollywood\",\n",
    "    \"artists\": \"Neha Kakkar\",\n",
    "    \"genre\": \"Bit Song\",\n",
    "    \"duration_ms\": 52,\n",
    "    \"popularity\": 14000000\n",
    "}\n",
    "\n",
    "# Set consistency level to \"majority\" for write operations\n",
    "# collection.write_concern = {\"w\": \"majority\"}\n",
    "\n",
    "# Execute the write query\n",
    "result = collection.insert_one(new_track)\n",
    "\n",
    "# Check if the insertion was successful\n",
    "if result.acknowledged:\n",
    "    print(\"Track inserted successfully.\")\n",
    "else:\n",
    "    print(\"Track insertion failed.\")\n"
   ]
  },
  {
   "cell_type": "code",
   "execution_count": 8,
   "id": "68c2ec61",
   "metadata": {},
   "outputs": [
    {
     "name": "stdout",
     "output_type": "stream",
     "text": [
      "{'_id': ObjectId('658c18254aaa609f7c58b4ee'), 'track_name': 'Bollywood', 'artists': 'Neha Kakkar', 'genre': 'Bit Song', 'duration_ms': 52, 'popularity': 14000000}\n"
     ]
    }
   ],
   "source": [
    "#Read query - Retrieve tracks with a minimum number of followers:\n",
    "\n",
    "# Query to retrieve tracks with a minimum number of popularity\n",
    "\n",
    "min_popularity = 1000\n",
    "query = {\"popularity\": {\"$gte\": min_popularity}}\n",
    "\n",
    "# Add optimization: Indexing on popularity field\n",
    "collection.create_index(\"popularity\")\n",
    "\n",
    "# Set consistency level to \"linearizable\" for read operations\n",
    "# collection.read_concern = {\"level\": \"linearizable\"}\n",
    "\n",
    "# Execute the read query\n",
    "tracks_with_min_followers = collection.find(query)\n",
    "\n",
    "# Print the results\n",
    "for track in tracks_with_min_followers:\n",
    "    print(track)\n",
    "\n",
    "# In this read query, we optimize the query performance by creating an index on the \"followers\" field. We also set the consistency level to \"linearizable\" to ensure that we read the most up-to-date data."
   ]
  },
  {
   "cell_type": "code",
   "execution_count": 9,
   "id": "ec5472e5",
   "metadata": {},
   "outputs": [
    {
     "name": "stdout",
     "output_type": "stream",
     "text": [
      "1 tracks deleted successfully.\n"
     ]
    }
   ],
   "source": [
    "#Delete documents from a NoSQL database:\n",
    "\n",
    "# Delete query: Delete tracks by a specific artist\n",
    "artist_name = \"Neha Kakkar\"\n",
    "query = {\"artists\": artist_name}\n",
    "\n",
    "# Execute the delete query\n",
    "result = collection.delete_many(query)\n",
    "\n",
    "# Check if the deletion was successful\n",
    "if result.deleted_count > 0:\n",
    "    print(f\"{result.deleted_count} tracks deleted successfully.\")\n",
    "else:\n",
    "    print(\"No tracks found for deletion.\")\n",
    "\n",
    " # The code uses the delete_many() method to delete multiple documents that match the specified query. It returns a DeleteResult object that contains the number of documents deleted (deleted_count property). You can check this property to determine if any documents were successfully deleted.\n"
   ]
  },
  {
   "cell_type": "code",
   "execution_count": null,
   "id": "acc5d1e9",
   "metadata": {},
   "outputs": [],
   "source": []
  }
 ],
 "metadata": {
  "kernelspec": {
   "display_name": "Python 3 (ipykernel)",
   "language": "python",
   "name": "python3"
  },
  "language_info": {
   "codemirror_mode": {
    "name": "ipython",
    "version": 3
   },
   "file_extension": ".py",
   "mimetype": "text/x-python",
   "name": "python",
   "nbconvert_exporter": "python",
   "pygments_lexer": "ipython3",
   "version": "3.9.12"
  }
 },
 "nbformat": 4,
 "nbformat_minor": 5
}
